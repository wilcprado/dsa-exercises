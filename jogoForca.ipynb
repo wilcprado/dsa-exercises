{
 "cells": [
  {
   "cell_type": "code",
   "execution_count": null,
   "metadata": {
    "scrolled": true
   },
   "outputs": [],
   "source": [
    "palavras =['casa','escola','jardim']\n",
    "jogada = []\n",
    "formacao = []\n",
    "numeraCaractere = [] \n",
    "ct_caract = 0\n",
    "ct_ls = 0\n",
    "ls = []\n",
    "\n",
    "palavras =['casa','escola','jardim']\n",
    "numeraCaractere[:0] = palavras[1]\n",
    "\n",
    "# Montagem lista com palavra indexada\n",
    "for x in numeraCaractere:\n",
    "        ls.append([x,ct_caract])\n",
    "        ct_caract+=1\n",
    "\n",
    "        \n",
    "# Entrada jogador\n",
    "for h in range(0,2):\n",
    "    entrada = str(input())\n",
    "    ct_ls=0\n",
    "\n",
    "    for j in range(0,len(ls)):\n",
    "        if entrada in ls[ct_ls][0]:\n",
    "            formacao.append(ls[ct_ls][1])\n",
    "            print('sim')\n",
    "        ct_ls+=1\n",
    "\n",
    "#Checando acertos com base em index formacao\n",
    "\n",
    "\n",
    "\n"
   ]
  },
  {
   "cell_type": "code",
   "execution_count": null,
   "metadata": {},
   "outputs": [],
   "source": [
    "\n",
    "for x in range(0,2):\n",
    "    entrada = str(input())\n",
    "    jogada.append(entrada)\n",
    "    for j in palavraJogo:\n",
    "        print(palavraJogo)\n",
    "        if (entrada in palavraJogo):\n",
    "            print(j)\n",
    "    #if (entrada in palavraJogo):\n",
    "     #   print('sim')"
   ]
  },
  {
   "cell_type": "code",
   "execution_count": null,
   "metadata": {},
   "outputs": [],
   "source": [
    "ls[0][1]"
   ]
  }
 ],
 "metadata": {
  "kernelspec": {
   "display_name": "Python 3",
   "language": "python",
   "name": "python3"
  },
  "language_info": {
   "codemirror_mode": {
    "name": "ipython",
    "version": 3
   },
   "file_extension": ".py",
   "mimetype": "text/x-python",
   "name": "python",
   "nbconvert_exporter": "python",
   "pygments_lexer": "ipython3",
   "version": "3.7.4"
  }
 },
 "nbformat": 4,
 "nbformat_minor": 2
}
